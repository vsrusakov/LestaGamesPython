{
 "cells": [
  {
   "cell_type": "markdown",
   "id": "11f7822c",
   "metadata": {},
   "source": [
    "## Вопрос №1 \n",
    "_На языке Python написать алгоритм (функцию) определения четности целого числа, который будет аналогичен нижеприведенному по функциональности, но отличен по своей сути. Объяснить плюсы и минусы обеих реализаций._\n",
    "\n",
    "_Пример:_ "
   ]
  },
  {
   "cell_type": "code",
   "execution_count": null,
   "id": "51fc4f36",
   "metadata": {},
   "outputs": [],
   "source": [
    "def isEven(x: int) -> bool:\n",
    "    return x % 2 == 0"
   ]
  },
  {
   "cell_type": "markdown",
   "id": "cd288767",
   "metadata": {},
   "source": [
    "Решение:"
   ]
  },
  {
   "cell_type": "code",
   "execution_count": null,
   "id": "81af1dc4",
   "metadata": {},
   "outputs": [],
   "source": [
    "def is_even(x: int) -> bool:\n",
    "    return x & 1 == 0"
   ]
  },
  {
   "cell_type": "markdown",
   "id": "67ce7a50",
   "metadata": {},
   "source": [
    "Можно ожидать, что второе решение будет работать быстрее, так как во многих процессорах есть отдельная машинная инструкция для побитового AND. Однако, как будет видно, это может быть не всегда верно. Так как целые числа в питоне устроены сравнительно неочевидно, я решил просто замерить время работы функций на числах разной длины. На моем компьютере первая функция работает быстрее для чисел, в которых не более примерно 20 десятичных знаков. В остальных случаях вторая функция работает быстрее, а при длине чисел около 200 знаков скорость вырастает почти вдвое. \n",
    "\n",
    "Тесты:"
   ]
  },
  {
   "cell_type": "code",
   "execution_count": 133,
   "id": "451675d3",
   "metadata": {
    "ExecuteTime": {
     "end_time": "2025-01-15T19:00:22.001336Z",
     "start_time": "2025-01-15T19:00:21.976334Z"
    }
   },
   "outputs": [],
   "source": [
    "import random\n",
    "\n",
    "w = random.randint(10, 10**10)\n",
    "x = random.randint(10**50, 10**60)\n",
    "y = random.randint(10**100, 10**110)\n",
    "z = random.randint(10**200, 10**210)"
   ]
  },
  {
   "cell_type": "code",
   "execution_count": 136,
   "id": "8fc8dbb1",
   "metadata": {
    "ExecuteTime": {
     "end_time": "2025-01-15T19:00:37.932382Z",
     "start_time": "2025-01-15T19:00:35.240234Z"
    }
   },
   "outputs": [
    {
     "name": "stdout",
     "output_type": "stream",
     "text": [
      "322 ns ± 51.2 ns per loop (mean ± std. dev. of 7 runs, 1,000,000 loops each)\n"
     ]
    }
   ],
   "source": [
    "%%timeit\n",
    "isEven(w)"
   ]
  },
  {
   "cell_type": "code",
   "execution_count": 137,
   "id": "3544f40c",
   "metadata": {
    "ExecuteTime": {
     "end_time": "2025-01-15T19:00:42.552553Z",
     "start_time": "2025-01-15T19:00:38.841761Z"
    }
   },
   "outputs": [
    {
     "name": "stdout",
     "output_type": "stream",
     "text": [
      "444 ns ± 71.9 ns per loop (mean ± std. dev. of 7 runs, 1,000,000 loops each)\n"
     ]
    }
   ],
   "source": [
    "%%timeit\n",
    "isEven(x)"
   ]
  },
  {
   "cell_type": "code",
   "execution_count": 138,
   "id": "d70de5d7",
   "metadata": {
    "ExecuteTime": {
     "end_time": "2025-01-15T19:00:45.837152Z",
     "start_time": "2025-01-15T19:00:42.557558Z"
    }
   },
   "outputs": [
    {
     "name": "stdout",
     "output_type": "stream",
     "text": [
      "390 ns ± 84.5 ns per loop (mean ± std. dev. of 7 runs, 1,000,000 loops each)\n"
     ]
    }
   ],
   "source": [
    "%%timeit\n",
    "isEven(y)"
   ]
  },
  {
   "cell_type": "code",
   "execution_count": 139,
   "id": "ebcf7e6b",
   "metadata": {
    "ExecuteTime": {
     "end_time": "2025-01-15T19:00:50.639352Z",
     "start_time": "2025-01-15T19:00:45.841155Z"
    }
   },
   "outputs": [
    {
     "name": "stdout",
     "output_type": "stream",
     "text": [
      "567 ns ± 131 ns per loop (mean ± std. dev. of 7 runs, 1,000,000 loops each)\n"
     ]
    }
   ],
   "source": [
    "%%timeit\n",
    "isEven(z)"
   ]
  },
  {
   "cell_type": "code",
   "execution_count": null,
   "id": "ec370ad8",
   "metadata": {},
   "outputs": [],
   "source": []
  },
  {
   "cell_type": "code",
   "execution_count": 140,
   "id": "8cacc58e",
   "metadata": {
    "ExecuteTime": {
     "end_time": "2025-01-15T19:00:54.276477Z",
     "start_time": "2025-01-15T19:00:51.496204Z"
    }
   },
   "outputs": [
    {
     "name": "stdout",
     "output_type": "stream",
     "text": [
      "340 ns ± 84.8 ns per loop (mean ± std. dev. of 7 runs, 1,000,000 loops each)\n"
     ]
    }
   ],
   "source": [
    "%%timeit\n",
    "is_even(w)"
   ]
  },
  {
   "cell_type": "code",
   "execution_count": 141,
   "id": "60b49a48",
   "metadata": {
    "ExecuteTime": {
     "end_time": "2025-01-15T19:00:56.876854Z",
     "start_time": "2025-01-15T19:00:54.282478Z"
    }
   },
   "outputs": [
    {
     "name": "stdout",
     "output_type": "stream",
     "text": [
      "320 ns ± 46.3 ns per loop (mean ± std. dev. of 7 runs, 1,000,000 loops each)\n"
     ]
    }
   ],
   "source": [
    "%%timeit\n",
    "is_even(x)"
   ]
  },
  {
   "cell_type": "code",
   "execution_count": 142,
   "id": "8b5dd66f",
   "metadata": {
    "ExecuteTime": {
     "end_time": "2025-01-15T19:00:59.875639Z",
     "start_time": "2025-01-15T19:00:56.883861Z"
    }
   },
   "outputs": [
    {
     "name": "stdout",
     "output_type": "stream",
     "text": [
      "370 ns ± 47.9 ns per loop (mean ± std. dev. of 7 runs, 1,000,000 loops each)\n"
     ]
    }
   ],
   "source": [
    "%%timeit\n",
    "is_even(y)"
   ]
  },
  {
   "cell_type": "code",
   "execution_count": 143,
   "id": "094f000f",
   "metadata": {
    "ExecuteTime": {
     "end_time": "2025-01-15T19:01:02.027111Z",
     "start_time": "2025-01-15T19:00:59.880656Z"
    }
   },
   "outputs": [
    {
     "name": "stdout",
     "output_type": "stream",
     "text": [
      "260 ns ± 11.8 ns per loop (mean ± std. dev. of 7 runs, 1,000,000 loops each)\n"
     ]
    }
   ],
   "source": [
    "%%timeit\n",
    "is_even(z)"
   ]
  },
  {
   "cell_type": "markdown",
   "id": "a77380f8",
   "metadata": {},
   "source": [
    "Таким образом, первая функция лучше подойдет для вычисления на небольших числах (<20 десятичных знаков). Но так как прирост скорости незначительный, можно считать, что вторая функция в целом работает быстрее первой."
   ]
  },
  {
   "cell_type": "markdown",
   "id": "5a591b95",
   "metadata": {},
   "source": [
    "## Вопрос №2\n",
    "\n",
    "_На языке Python написать минимум по 2 класса реализовывающих циклический буфер FIFO. Объяснить плюсы и минусы каждой реализации._"
   ]
  },
  {
   "cell_type": "markdown",
   "id": "0d5dc754",
   "metadata": {},
   "source": [
    "Я написал две реализации в файле `my_queue.py`. Первая,  `QueueOne`, основана на динамическом массиве, вторая, `QueueTwo`, - на односвязном списке. Все операции `QueueTwo` (enqueue, dequeue, peek) имеют сложность $O(1)$. Методы enqueue и dequeue у `QueueOne`имеют среднюю сложность $O(1)$. При создании объекта `QueueOne` для хранения элементов очереди создается список `self._buf` длины 16. При переполнении очереди список всегда увеличивается вдвое. Также список `self._buf` уменьшается в два раза, когда количество элементов в очереди `self._size` становится меньше, чем `len(self._buf) // 4`. Плюсы и минусы обеих очередей:\n",
    "\n",
    "`QueueOne`\n",
    "* (+) Если бы числа в массиве `_buf` хранились непрерывно, итерация по элементам очереди была бы быстрее\n",
    "* (-) При переполнении очереди нужно создавать новый список `_buf` и копировать элементы\n",
    "\n",
    "\n",
    "`QueueTwo`\n",
    "* (+) По сравнению с первой очередью, нет копирования элементов при расширении списка\n",
    "* (+) Более простая реализация"
   ]
  },
  {
   "cell_type": "markdown",
   "id": "3aa7c4f4",
   "metadata": {},
   "source": [
    "## Вопрос №3\n",
    "\n",
    "_На языке Python предложить алгоритм, который быстрее всего (по процессорным тикам) отсортирует данный ей массив чисел. Массив может быть любого размера со случайным порядком чисел (в том числе и отсортированным). Объяснить, почему вы считаете, что функция соответствует заданным критериям._"
   ]
  },
  {
   "cell_type": "markdown",
   "id": "300bfde7",
   "metadata": {},
   "source": [
    "Хочу предложить быструю сортировку с разбиением Хоара, выбором медианы из трех в качестве опорного элемента и переключением на сортировку вставками на массивах размера не больше 32. Код и тест сортировки записаны в файле `qsort.py`.\n",
    "\n",
    "Сортировка вставками используется для ускорения сортировки небольших массивов, медиана из трех - для снижения вероятности неудачного выбора опорного элемента. Также медиана из трех обеспечивает хорошую скорость сортировки уже отсортированных массивов. Я решил выбрать быструю сортировку, потому что она считается одной из самых производительных на практике и из-за этого иногда комбинируется с другими сортировками (например, introsort). "
   ]
  }
 ],
 "metadata": {
  "kernelspec": {
   "display_name": "Python 3 (ipykernel)",
   "language": "python",
   "name": "python3"
  },
  "language_info": {
   "codemirror_mode": {
    "name": "ipython",
    "version": 3
   },
   "file_extension": ".py",
   "mimetype": "text/x-python",
   "name": "python",
   "nbconvert_exporter": "python",
   "pygments_lexer": "ipython3",
   "version": "3.9.18"
  },
  "toc": {
   "base_numbering": 1,
   "nav_menu": {},
   "number_sections": true,
   "sideBar": true,
   "skip_h1_title": false,
   "title_cell": "Table of Contents",
   "title_sidebar": "Contents",
   "toc_cell": false,
   "toc_position": {},
   "toc_section_display": true,
   "toc_window_display": false
  }
 },
 "nbformat": 4,
 "nbformat_minor": 5
}
